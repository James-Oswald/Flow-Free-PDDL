{
 "cells": [
  {
   "cell_type": "code",
   "execution_count": 1,
   "metadata": {},
   "outputs": [],
   "source": [
    "import numpy as np\n",
    "import cv2\n",
    "import matplotlib.pyplot as plt"
   ]
  },
  {
   "cell_type": "code",
   "execution_count": 2,
   "metadata": {},
   "outputs": [],
   "source": [
    "\n",
    "img_bgr = cv2.imread('problem-images/lvl1.png')\n",
    "img_rgb = cv2.cvtColor(img_bgr, cv2.COLOR_BGR2RGB)\n",
    "img = cv2.cvtColor(img_bgr, cv2.COLOR_BGR2GRAY)"
   ]
  },
  {
   "cell_type": "code",
   "execution_count": 3,
   "metadata": {},
   "outputs": [],
   "source": [
    "\n",
    "\n",
    "\n",
    "(thresh, img_bin) = cv2.threshold(img, 128, 255, cv2.THRESH_BINARY|cv2.THRESH_OTSU)\n",
    "#img_bin = 255-img_bin \n",
    "#plt.imshow(img_bin, cmap=\"gray\")\n",
    "\n",
    "\n",
    "# Defining a kernel length\n",
    "kernel_length = np.array(img).shape[1]//20\n",
    "# A vertical kernel of (1 X kernel_length), which will detect all the v lines from the image.\n",
    "v_kernel = cv2.getStructuringElement(cv2.MORPH_RECT, (1, kernel_length))\n",
    "# A horizontal kernel of (kernel_length X 1), which will help to detect all the horizontal line from the image.\n",
    "h_kernel = cv2.getStructuringElement(cv2.MORPH_RECT, (kernel_length, 1))\n",
    "# A kernel of (3 X 3) ones.\n",
    "kernel = cv2.getStructuringElement(cv2.MORPH_RECT, (3, 3))\n",
    "\n",
    "# Morphological operation to detect vertical lines from an image\n",
    "img_temp1 = cv2.erode(img_bin, v_kernel, iterations=3)\n",
    "v_lines_img = cv2.dilate(img_temp1, v_kernel, iterations=3)\n",
    "#plt.imshow(v_lines_img)\n",
    "# Morphological operation to detect horizontal lines from an image\n",
    "img_temp2 = cv2.erode(img_bin, h_kernel, iterations=3)\n",
    "h_lines_img = cv2.dilate(img_temp2, h_kernel, iterations=3)\n",
    "#plt.imshow(h_lines_img)\n",
    "\n",
    "# Weighting parameters, this will decide the quantity of an image to be added to make a new image.\n",
    "alpha = 0.5\n",
    "beta = 1.0 - alpha\n",
    "# This function helps to add two image with specific weight parameter to get a third image as summation of two image.\n",
    "img_final_bin = cv2.addWeighted(v_lines_img, alpha, h_lines_img, beta, 0.0)\n",
    "img_final_bin = cv2.erode(~img_final_bin, kernel, iterations=2)\n",
    "(thresh, img_final_bin) = cv2.threshold(img_final_bin, 128,255, cv2.THRESH_BINARY | cv2.THRESH_OTSU)\n",
    "\n",
    "def sort_contours(cnts, method=\"left-to-right\"):\n",
    "\t# initialize the reverse flag and sort index\n",
    "\treverse = False\n",
    "\ti = 0\n",
    "\t# handle if we need to sort in reverse\n",
    "\tif method == \"right-to-left\" or method == \"bottom-to-top\":\n",
    "\t\treverse = True\n",
    "\t# handle if we are sorting against the y-coordinate rather than\n",
    "\t# the x-coordinate of the bounding box\n",
    "\tif method == \"top-to-bottom\" or method == \"bottom-to-top\":\n",
    "\t\ti = 1\n",
    "\t# construct the list of bounding boxes and sort them from top to\n",
    "\t# bottom\n",
    "\tboundingBoxes = [cv2.boundingRect(c) for c in cnts]\n",
    "\t(cnts, boundingBoxes) = zip(*sorted(zip(cnts, boundingBoxes),\n",
    "\t\tkey=lambda b:b[1][i], reverse=reverse))\n",
    "\t# return the list of sorted contours and bounding boxes\n",
    "\treturn (cnts, boundingBoxes)\n",
    "\n",
    "# Find contours for image, which will detect all the boxes\n",
    "contours, hierarchy = cv2.findContours(img_final_bin, cv2.RETR_TREE, cv2.CHAIN_APPROX_SIMPLE)\n",
    "# Sort all the contours by top to bottom.\n",
    "(contours, boundingBoxes) = sort_contours(contours, method=\"top-to-bottom\")\n",
    "\n",
    "        "
   ]
  },
  {
   "cell_type": "code",
   "execution_count": 4,
   "metadata": {},
   "outputs": [],
   "source": [
    "\n",
    "\n",
    "def percentDif(a : int, b : int):\n",
    "    \"\"\"\n",
    "    Return the % difference between two numbers a and b\n",
    "    \"\"\"\n",
    "    if b + a == 0:\n",
    "        return 0\n",
    "    return 100 * (abs(a - b) / ((a + b) / 2))\n",
    "\n",
    "\n",
    "cell_imgs = []\n",
    "cur_row = []\n",
    "last_y = 0\n",
    "for c in contours:\n",
    "    # Returns the location and width,height for every contour\n",
    "    x, y, w, h = cv2.boundingRect(c)\n",
    "\n",
    "    #An elevation change of more than 4% likely means we're on a new row\n",
    "    if percentDif(y, last_y) > 4:\n",
    "        cell_imgs.append(cur_row.copy())\n",
    "        cur_row = []\n",
    "\n",
    "    #if the width and height of the box are within 10% of each other (its a square)\n",
    "    if percentDif(w, h) < 10:\n",
    "        cell_img = img_bgr[y:y+h, x:x+w]\n",
    "        cell_img_g = cv2.cvtColor(cell_img, cv2.COLOR_BGR2GRAY)\n",
    "        #(thresh, cell_img) = cv2.threshold(cell_img, 240, 255, cv2.THRESH_OTSU)\n",
    "\n",
    "        circles = cv2.HoughCircles(cell_img_g, cv2.HOUGH_GRADIENT, 1, cell_img_g.shape[0]/2)\n",
    "        \n",
    "        if not np.any(circles):\n",
    "            cur_row.append(None)\n",
    "        elif len(circles) == 1:\n",
    "            cur_row.append(cell_img[cell_img.shape[0]//2][cell_img.shape[1]//2])\n",
    "        else:\n",
    "            print(\"Impossible!\") #there should never be 2 circles in a cell\n",
    "\n",
    "        # param1=100, param2=30,\n",
    "        # minRadius=1, maxRadius=30)\n",
    "        #plt.imshow(new_img, cmap=\"gray\")\n",
    "        #plt.show()\n",
    "\n",
    "    last_y = y"
   ]
  },
  {
   "cell_type": "code",
   "execution_count": 5,
   "metadata": {},
   "outputs": [
    {
     "data": {
      "text/plain": [
       "[[],\n",
       " [array([ 74, 224, 232], dtype=uint8),\n",
       "  None,\n",
       "  array([ 38, 139,  61], dtype=uint8),\n",
       "  None,\n",
       "  array([ 35,  51, 234], dtype=uint8)],\n",
       " [array([ 52, 143, 236], dtype=uint8),\n",
       "  None,\n",
       "  array([244,  40,  20], dtype=uint8),\n",
       "  None,\n",
       "  None],\n",
       " [None, None, None, None, None],\n",
       " [None,\n",
       "  array([ 74, 224, 232], dtype=uint8),\n",
       "  None,\n",
       "  array([ 38, 139,  61], dtype=uint8),\n",
       "  None],\n",
       " [None,\n",
       "  array([ 52, 143, 236], dtype=uint8),\n",
       "  array([244,  40,  20], dtype=uint8),\n",
       "  array([ 35,  51, 234], dtype=uint8),\n",
       "  None]]"
      ]
     },
     "execution_count": 5,
     "metadata": {},
     "output_type": "execute_result"
    }
   ],
   "source": [
    "cell_imgs"
   ]
  }
 ],
 "metadata": {
  "kernelspec": {
   "display_name": "venv",
   "language": "python",
   "name": "python3"
  },
  "language_info": {
   "codemirror_mode": {
    "name": "ipython",
    "version": 3
   },
   "file_extension": ".py",
   "mimetype": "text/x-python",
   "name": "python",
   "nbconvert_exporter": "python",
   "pygments_lexer": "ipython3",
   "version": "3.10.12"
  },
  "orig_nbformat": 4
 },
 "nbformat": 4,
 "nbformat_minor": 2
}
